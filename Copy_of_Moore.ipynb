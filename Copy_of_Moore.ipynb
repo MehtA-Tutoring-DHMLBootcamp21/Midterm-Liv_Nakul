{
  "nbformat": 4,
  "nbformat_minor": 0,
  "metadata": {
    "colab": {
      "name": "Copy of Moore.ipynb",
      "provenance": [],
      "collapsed_sections": [
        "REvBWhtF679k",
        "JL7QKDC2uxMO"
      ]
    },
    "kernelspec": {
      "name": "python3",
      "display_name": "Python 3"
    },
    "language_info": {
      "name": "python"
    }
  },
  "cells": [
    {
      "cell_type": "markdown",
      "metadata": {
        "id": "1t7pyE9Rokz3"
      },
      "source": [
        "# Marianne Moore Books of Poem"
      ]
    },
    {
      "cell_type": "markdown",
      "metadata": {
        "id": "5pmEMNYaol30"
      },
      "source": [
        "Task: Identifying and Annotating Geographical Entities in Marianne Moore's Poems"
      ]
    },
    {
      "cell_type": "markdown",
      "metadata": {
        "id": "FS1Ib-xVofQW"
      },
      "source": [
        "Mounting Drive"
      ]
    },
    {
      "cell_type": "code",
      "metadata": {
        "colab": {
          "base_uri": "https://localhost:8080/"
        },
        "id": "PGXCN2JWcCTL",
        "outputId": "0dde2fa0-9837-4354-e0dd-c4654742b6ac"
      },
      "source": [
        "from google.colab import drive\n",
        "drive.mount('/content/drive')"
      ],
      "execution_count": null,
      "outputs": [
        {
          "output_type": "stream",
          "text": [
            "Drive already mounted at /content/drive; to attempt to forcibly remount, call drive.mount(\"/content/drive\", force_remount=True).\n"
          ],
          "name": "stdout"
        }
      ]
    },
    {
      "cell_type": "markdown",
      "metadata": {
        "id": "Isxju-acpbz4"
      },
      "source": [
        "Import necessary libraries"
      ]
    },
    {
      "cell_type": "code",
      "metadata": {
        "id": "yVx08TBenuCF"
      },
      "source": [
        "import re\n",
        "import pandas as pd"
      ],
      "execution_count": null,
      "outputs": []
    },
    {
      "cell_type": "markdown",
      "metadata": {
        "id": "REvBWhtF679k"
      },
      "source": [
        "### Read in text file\n",
        "\n",
        "\n",
        "1.   Used Online split PDF software to only retain the poems\n",
        "2.   Converted that pdf to text using online software\n",
        "3.   In the text file, we did find and replace to take out all these funny arrows that were showing up wherever there was a page break"
      ]
    },
    {
      "cell_type": "code",
      "metadata": {
        "id": "2jchE3hyMLKM"
      },
      "source": [
        "string1 = \"text\""
      ],
      "execution_count": null,
      "outputs": []
    },
    {
      "cell_type": "code",
      "metadata": {
        "id": "62NQb6mq67Rs"
      },
      "source": [
        "file1 = open(\"/content/drive/MyDrive/Python Summer Project/justpoems.txt\", \"r\")\n",
        "#file1 = open(\"/content/drive/MyDrive/Classroom/DHML 21/My Work/Midterm/justpoems.txt\", \"r\")\n",
        "\n",
        "#Removed the new line characters\n",
        "moore_text = file1.read()\n",
        "#moore_text"
      ],
      "execution_count": null,
      "outputs": []
    },
    {
      "cell_type": "markdown",
      "metadata": {
        "id": "JL7QKDC2uxMO"
      },
      "source": [
        "###Replace unnecessary strings\n",
        "\n",
        "For the replacing I want to do next, newlines are a little tricky. So I replace them with a string I know is not going to appear anywhere"
      ]
    },
    {
      "cell_type": "code",
      "metadata": {
        "id": "RWfPGM6vVDcR"
      },
      "source": [
        "moore_text = moore_text.replace(\"\\n\", \"POEMBREAK\")\n",
        "#moore_text"
      ],
      "execution_count": null,
      "outputs": []
    },
    {
      "cell_type": "markdown",
      "metadata": {
        "id": "lXO9EPriu8Y6"
      },
      "source": [
        "After each page, there is a little bit of mess so I end up taking that out (something that starts with edit'rs note and ends with 30/12/2016 14:51 and replacing it with a string so I know where the page ends. In most cases, the poem ends where the page ends."
      ]
    },
    {
      "cell_type": "code",
      "metadata": {
        "id": "QIcYJPcrHRY4"
      },
      "source": [
        "moore_text=re.sub('editor’s note.*?30/12/2016 14:51','POEMSPLIT',moore_text)\n",
        "#moore_text"
      ],
      "execution_count": null,
      "outputs": []
    },
    {
      "cell_type": "markdown",
      "metadata": {
        "id": "70nPUEMZverF"
      },
      "source": [
        "Delete all unneccessary numerical values and |\n",
        "\n",
        "Note: This takes out numerical values in the poem too like February the 14th, but for our purposes that is ok"
      ]
    },
    {
      "cell_type": "code",
      "metadata": {
        "id": "A6HmctLJvKR_"
      },
      "source": [
        "moore_text = ''.join(i for i in moore_text if not i.isdigit())\n",
        "moore_text = moore_text.replace(\"|\", \"\")\n",
        "moore_text = moore_text.replace(\"moore’s notes  ·\", \"\")\n",
        "#moore_text"
      ],
      "execution_count": null,
      "outputs": []
    },
    {
      "cell_type": "markdown",
      "metadata": {
        "id": "36mq7JjNv0h3"
      },
      "source": [
        "Change to newline character again"
      ]
    },
    {
      "cell_type": "code",
      "metadata": {
        "id": "mjqcZmURv0Ds"
      },
      "source": [
        "moore_text = moore_text.replace(\"POEMBREAK\", \"\\n\")\n",
        "#moore_text"
      ],
      "execution_count": null,
      "outputs": []
    },
    {
      "cell_type": "markdown",
      "metadata": {
        "id": "sqpkzBmcCVHR"
      },
      "source": [
        "Each page will belong to a different entry in the list"
      ]
    },
    {
      "cell_type": "code",
      "metadata": {
        "id": "4SgpHwnbBHYJ"
      },
      "source": [
        "moore_list = moore_text.split(\"POEMSPLIT\")"
      ],
      "execution_count": null,
      "outputs": []
    },
    {
      "cell_type": "markdown",
      "metadata": {
        "id": "UgMPp_CECcCI"
      },
      "source": [
        "We first delete the empty spaces using strip. Since the newline characters is there, we can split the poem by each line. Now at each index of the list, there will be a list (ie each individual line of the poem).\n",
        "\n",
        "We print the index and the title of each poem. For some poems that are longer than the page, the title is not printed out, rather than the first line of the poem on the new page is printed."
      ]
    },
    {
      "cell_type": "code",
      "metadata": {
        "colab": {
          "base_uri": "https://localhost:8080/"
        },
        "id": "PQuvumtFBL99",
        "outputId": "07fa229c-fe9b-4c98-d5a5-e3179c5f3041"
      },
      "source": [
        "for index, value in enumerate(moore_list):\n",
        "  moore_list[index] = value.strip().splitlines()\n",
        "\n",
        "moore_list.pop()\n",
        "\n",
        "#for index, value in enumerate(moore_list):\n",
        "#  print(index, value[0])"
      ],
      "execution_count": null,
      "outputs": [
        {
          "output_type": "execute_result",
          "data": {
            "text/plain": [
              "[]"
            ]
          },
          "metadata": {
            "tags": []
          },
          "execution_count": 10
        }
      ]
    },
    {
      "cell_type": "markdown",
      "metadata": {
        "id": "r3HUfu6snYh9"
      },
      "source": [
        "###Creating a final poem list of lists\n",
        "\n",
        "Because we want each index in the list to contain one poem, we have to find out the poems that are multiple pages long and combine them and then delete them.\n",
        "\n",
        "We print the new list with each poem at each index."
      ]
    },
    {
      "cell_type": "code",
      "metadata": {
        "id": "duYm_JzWIakM"
      },
      "source": [
        "beg_poem = [22, 34, 36, 40, 44, 51, 51, 56, 58, 58, 58, 58, 58, 58, 58, 67, 67, 67, 67, 67, 73, 73, 76, 76, 76, 76, 76, 83, 83, 83, 83, 88, 90, 90, 90, 90, 95, 95, 98, 100, 100, 103, 103, 107, 107, 107, 111, 111, 111, 111, 111, 111, 111, 111, 111, 121, 121, 121, 127, 129, 129, 132, 134, 137, 140, 140, 143, 145, 147, 147, 150, 153, 161, 168, 181, 183, 187, 189, 191, 195, 197, 199, 199, 202, 202, 207, 209, 211, 222, 248, 248]\n",
        "end_poem = [23, 35, 37, 41, 45, 52, 53, 57, 59, 60, 61, 62, 63, 64, 65, 68, 69, 70, 71, 72, 74, 75, 77, 78, 79, 80, 81, 84, 85, 86, 87, 89, 91, 92, 93, 94, 96, 97, 99, 101, 102, 104, 105, 108, 109, 110, 112, 113, 114, 115, 116, 117, 118, 119, 120, 122, 123, 124, 128, 130, 131, 133, 135, 138, 141, 142, 144, 146, 148, 149, 151, 154, 162, 169, 182, 184, 188, 190, 192, 196, 198, 200, 201, 203, 204, 208, 210, 212, 223, 249, 250]\n",
        "\n",
        "for i in range(len(beg_poem)):\n",
        "  moore_list[beg_poem[i]].extend(moore_list[end_poem[i]])\n",
        "\n",
        "new_moore_list = []\n",
        "for i in range(len(moore_list)):\n",
        "  if i not in end_poem:\n",
        "    new_moore_list.append(moore_list[i])\n",
        "\n",
        "#for index, value in enumerate(new_moore_list):\n",
        "#  print(index, value)"
      ],
      "execution_count": null,
      "outputs": []
    },
    {
      "cell_type": "markdown",
      "metadata": {
        "id": "Y3A4b8_KmHdQ"
      },
      "source": [
        "# NER model"
      ]
    },
    {
      "cell_type": "code",
      "metadata": {
        "id": "67yuw-W4JsxW"
      },
      "source": [
        "moore_text = moore_text.replace(\"\\n\", \" \")\n",
        "moore_text = moore_text.replace(\"POEMSPLIT\", \" \")\n",
        "#moore_text"
      ],
      "execution_count": null,
      "outputs": []
    },
    {
      "cell_type": "markdown",
      "metadata": {
        "id": "0M41hUwvfEQr"
      },
      "source": [
        "1.   Load English tokenizer, tagger, parser and NER\n",
        "2.   Process whole documents\n",
        "3.   Find named entities, phrases, and concepts"
      ]
    },
    {
      "cell_type": "code",
      "metadata": {
        "id": "VFgdNZzSHMnO"
      },
      "source": [
        "import spacy\n",
        "nlp = spacy.load(\"en_core_web_sm\")\n",
        "\n",
        "doc = []\n",
        "for line in new_moore_list:\n",
        "  entities = []\n",
        "  for text in line:\n",
        "    entities.append(nlp(text))\n",
        "  doc.append(entities)\n",
        "\n",
        "#text = (moore_text)\n",
        "#doc = nlp(text)"
      ],
      "execution_count": null,
      "outputs": []
    },
    {
      "cell_type": "code",
      "metadata": {
        "colab": {
          "base_uri": "https://localhost:8080/"
        },
        "id": "UOIzdfKqgxUy",
        "outputId": "2b882348-01cc-4901-c893-e7b71423b895"
      },
      "source": [
        "for index, NLPs in enumerate(doc):\n",
        "  for NLP in NLPs:\n",
        "    for entity in NLP.ents:\n",
        "      if entity.label_ == \"GPE\" or entity.label_ == \"LOC\" or entity.label_ == \"NORP\" or entity.label_ == \"FAC\":\n",
        "        print(index, entity.text, entity.label_)"
      ],
      "execution_count": null,
      "outputs": [
        {
          "output_type": "stream",
          "text": [
            "2 The Dark King FAC\n",
            "6 Arab NORP\n",
            "6 Moorish NORP\n",
            "8 phantasmagoria GPE\n",
            "8 Nineveh GPE\n",
            "8 the Statue of Liberty FAC\n",
            "9 Egyptian NORP\n",
            "11 Egyptian NORP\n",
            "16 French NORP\n",
            "18 France GPE\n",
            "19 byplay GPE\n",
            "20 Egyptian NORP\n",
            "21 earth LOC\n",
            "23 XY GPE\n",
            "23 Hebrew NORP\n",
            "26 north, south GPE\n",
            "29 Ireland GPE\n",
            "30 zebras NORP\n",
            "30 Gilgamesh GPE\n",
            "35 agrarian NORP\n",
            "36 Adam GPE\n",
            "36 feet GPE\n",
            "37 unison GPE\n",
            "37 affront GPE\n",
            "37 claws NORP\n",
            "38 Brazil GPE\n",
            "39 French NORP\n",
            "39 Chinese NORP\n",
            "40 England GPE\n",
            "40 Italy GPE\n",
            "40 Greece GPE\n",
            "40 France GPE\n",
            "40 East LOC\n",
            "40 America GPE\n",
            "40 Greek NORP\n",
            "40 American NORP\n",
            "40 China GPE\n",
            "40 Egyptian NORP\n",
            "40 America GPE\n",
            "43 French NORP\n",
            "43 Persia GPE\n",
            "44 earth LOC\n",
            "44 geese NORP\n",
            "44 Oriental NORP\n",
            "44 German NORP\n",
            "45 New York GPE\n",
            "45 Allegheny LOC\n",
            "46 china GPE\n",
            "46 Persian NORP\n",
            "46 Chinese NORP\n",
            "46 Utah GPE\n",
            "46 Texas GPE\n",
            "46 American NORP\n",
            "46 Chinese NORP\n",
            "47 Greek NORP\n",
            "47 amber GPE\n",
            "48 ivory markers GPE\n",
            "48 Chinese NORP\n",
            "48 precisians NORP\n",
            "49 cypress FAC\n",
            "49 Egypt GPE\n",
            "49 Jeremiah GPE\n",
            "50 German NORP\n",
            "50 French NORP\n",
            "50 Persian NORP\n",
            "50 ivory white GPE\n",
            "50 extinguish NORP\n",
            "50 Hesperides FAC\n",
            "50 ivory on GPE\n",
            "50 ivory GPE\n",
            "50 Columbus GPE\n",
            "50 Roman LOC\n",
            "52 American NORP\n",
            "52 manganese NORP\n",
            "52 the middle lake LOC\n",
            "52 Big Snow Mountain LOC\n",
            "52 Niagara GPE\n",
            "52 Canada GPE\n",
            "52 Indian NORP\n",
            "52 American NORP\n",
            "52 Larkspur GPE\n",
            "52 Persian NORP\n",
            "52 Greek NORP\n",
            "52 Greece GPE\n",
            "52 Mount Tacoma LOC\n",
            "53 Antarctica LOC\n",
            "53 Florida GPE\n",
            "53 china GPE\n",
            "53 knotts GPE\n",
            "53 Britannia GPE\n",
            "53 Ecuador GPE\n",
            "53 Venice GPE\n",
            "54 the sweet sea air FAC\n",
            "54 America GPE\n",
            "54 French NORP\n",
            "54 French NORP\n",
            "54 Veritas GPE\n",
            "54 Christo GPE\n",
            "54 Oriental NORP\n",
            "54 a D. D. NORP\n",
            "54 Montana GPE\n",
            "54 Downpour GPE\n",
            "54 zebu GPE\n",
            "54 Swordfish NORP\n",
            "54 France GPE\n",
            "55 Versailles GPE\n",
            "55 chintz GPE\n",
            "55 china GPE\n",
            "55 the Louis Fifteenth FAC\n",
            "56 Pompeys GPE\n",
            "56 Vatican FAC\n",
            "56 Pompey NORP\n",
            "56 anoas GPE\n",
            "56 Nile LOC\n",
            "56 yachtsmen GPE\n",
            "56 Nile LOC\n",
            "56 petunia GPE\n",
            "56 Sahara FAC\n",
            "56 Rome GPE\n",
            "56 Bedouin GPE\n",
            "57 France GPE\n",
            "57 French NORP\n",
            "57 sliver GPE\n",
            "57 Italy GPE\n",
            "57 the Prince of Tails LOC\n",
            "57 Spanish NORP\n",
            "57 Persian NORP\n",
            "57 Italian NORP\n",
            "58 Costa Rica GPE\n",
            "58 Costa Rica GPE\n",
            "58 Chinese NORP\n",
            "58 Chinese NORP\n",
            "58 east LOC\n",
            "58 myristica GPE\n",
            "58 East LOC\n",
            "58 Costa Rica GPE\n",
            "58 Chinese NORP\n",
            "58 Spaniards NORP\n",
            "58 quicksilver GPE\n",
            "59 German NORP\n",
            "59 Festina GPE\n",
            "59 Caribbean LOC\n",
            "60 Augsburg GPE\n",
            "60 Swiss NORP\n",
            "60 Holstein FAC\n",
            "60 Vermont GPE\n",
            "60 Indian NORP\n",
            "60 Christian NORP\n",
            "60 Indian NORP\n",
            "61 Chinese NORP\n",
            "61 puce-American NORP\n",
            "61 Italian NORP\n",
            "61 Persian NORP\n",
            "61 China GPE\n",
            "61 Iceland GPE\n",
            "61 China GPE\n",
            "61 china GPE\n",
            "61 France GPE\n",
            "61 England GPE\n",
            "61 peonian NORP\n",
            "61 Chinese NORP\n",
            "61 Chinese NORP\n",
            "62 banyans NORP\n",
            "62 France GPE\n",
            "62 Hermes GPE\n",
            "62 Dutch NORP\n",
            "62 Baghdad GPE\n",
            "62 Britain GPE\n",
            "62 Nicobar GPE\n",
            "62 Dalmatian NORP\n",
            "62 Indians NORP\n",
            "64 unison GPE\n",
            "64 Titan GPE\n",
            "64 Spanish NORP\n",
            "64 Umbrian GPE\n",
            "65 Virginia GPE\n",
            "65 England GPE\n",
            "65 Latin NORP\n",
            "65 Turk LOC\n",
            "65 Indian NORP\n",
            "65 Indians NORP\n",
            "65 Fort Old GPE\n",
            "65 Virginian NORP\n",
            "65 African NORP\n",
            "65 magnolia NORP\n",
            "65 Indian NORP\n",
            "65 French NORP\n",
            "65 Persian NORP\n",
            "65 Egyptian NORP\n",
            "65 American NORP\n",
            "65 Dutch NORP\n",
            "65 handmade GPE\n",
            "65 cypress FAC\n",
            "65 pussy GPE\n",
            "65 South America LOC\n",
            "65 mimosa GPE\n",
            "65 Zephyr GPE\n",
            "65 china GPE\n",
            "65 Psyche FAC\n",
            "65 West Wind GPE\n",
            "65 India GPE\n",
            "65 Egypt GPE\n",
            "65 Chinese NORP\n",
            "65 New York GPE\n",
            "65 London GPE\n",
            "65 Japanese NORP\n",
            "66 matador GPE\n",
            "67 misfortune GPE\n",
            "68 Lapland GPE\n",
            "68 Alaska GPE\n",
            "69 French NORP\n",
            "69 Voltaire GPE\n",
            "69 England GPE\n",
            "69 France GPE\n",
            "69 France GPE\n",
            "70 roc GPE\n",
            "70 Madagascar GPE\n",
            "70 Slike GPE\n",
            "70 Chinese NORP\n",
            "70 lake GPE\n",
            "70 sand GPE\n",
            "71 Ireland GPE\n",
            "71 Venus LOC\n",
            "71 Ireland GPE\n",
            "71 Irish NORP\n",
            "71 Irish NORP\n",
            "71 Irish NORP\n",
            "71 Irish NORP\n",
            "71 Irish NORP\n",
            "71 Irish NORP\n",
            "72 Arlington GPE\n",
            "72 Arabs NORP\n",
            "72 Jupiter LOC\n",
            "73 Parthenon GPE\n",
            "75 sylvan black GPE\n",
            "75 chieftain GPE\n",
            "76 leafy NORP\n",
            "76 Tooth LOC\n",
            "77 Sweden GPE\n",
            "77 Brooklyn GPE\n",
            "77 Sweden GPE\n",
            "77 Washington GPE\n",
            "77 Adolphus NORP\n",
            "77 Sweden GPE\n",
            "77 Jews NORP\n",
            "77 Sweden GPE\n",
            "77 west LOC\n",
            "77 Sweden GPE\n",
            "77 Sweden GPE\n",
            "77 Sweden GPE\n",
            "77 Sweden GPE\n",
            "79 David GPE\n",
            "79 Bethlehem GPE\n",
            "79 emblem GPE\n",
            "79 quicksands GPE\n",
            "80 Italy GPE\n",
            "82 harmonica GPE\n",
            "82 basso GPE\n",
            "86 Genesis GPE\n",
            "86 Jubal GPE\n",
            "86 Jabal GPE\n",
            "86 Vermin GPE\n",
            "87 Buckinghamshire GPE\n",
            "87 Egyptians NORP\n",
            "88 Hartford GPE\n",
            "88 Rome GPE\n",
            "89 Persian NORP\n",
            "89 Spain GPE\n",
            "89 Roman GPE\n",
            "89 Mars LOC\n",
            "93 Maine GPE\n",
            "95 Jamaica GPE\n",
            "95 Jonah GPE\n",
            "95 Spain GPE\n",
            "96 Italy GPE\n",
            "96 Perugia GPE\n",
            "96 Saracen GPE\n",
            "96 esopica GPE\n",
            "97 Sumerian NORP\n",
            "98 chamois GPE\n",
            "98 Imami GPE\n",
            "98 Persian NORP\n",
            "98 Maltese NORP\n",
            "98 Versailles GPE\n",
            "99 Egypt GPE\n",
            "100 Escudero GPE\n",
            "100 the hairfine moon LOC\n",
            "100 Escudero GPE\n",
            "100 Iberian-American NORP\n",
            "100 alphabetS NORP\n",
            "100 glassy lake GPE\n",
            "100 Escudero FAC\n",
            "100 El Greco GPE\n",
            "100 Escudero GPE\n",
            "101 China GPE\n",
            "101 abalonean NORP\n",
            "102 quasi-modish counterfeit GPE\n",
            "105 Jellyfish NORP\n",
            "107 Reese NORP\n",
            "107 Brooklyn GPE\n",
            "107 Campanella GPE\n",
            "107 Dodger NORP\n",
            "107 Cimoli GPE\n",
            "108 the Old Pink Moss LOC\n",
            "108 French NORP\n",
            "109 Latin NORP\n",
            "110 French NORP\n",
            "111 Boston GPE\n",
            "111 Cambridge GPE\n",
            "111 Back Bay FAC\n",
            "111 Faneuil Hall FAC\n",
            "111 Hamadan GPE\n",
            "111 Iran GPE\n",
            "112 Vermont GPE\n",
            "112 arctic LOC\n",
            "112 Kashan GPE\n",
            "112 Vermont GPE\n",
            "112 Mountain Valley LOC\n",
            "113 Greenland GPE\n",
            "113 St. Hubert GPE\n",
            "113 Santa Claus GPE\n",
            "114 Palestine GPE\n",
            "114 Noah LOC\n",
            "115 Russia GPE\n",
            "115 Russia GPE\n",
            "115 Russia GPE\n",
            "115 North’s Nan-ai-ans FAC\n",
            "116 saint somehow FAC\n",
            "116 Nile LOC\n",
            "116 Leonardo da Vinci’s GPE\n",
            "117 Chinese NORP\n",
            "117 China GPE\n",
            "118 peso NORP\n",
            "118 addio GPE\n",
            "118 esperanto GPE\n",
            "118 U.S.A. GPE\n",
            "119 Owlman NORP\n",
            "119 Cape Canaveral GPE\n",
            "119 ruffians NORP\n",
            "120 Homer GPE\n",
            "122 Chinese NORP\n",
            "122 Taisez GPE\n",
            "123 wand GPE\n",
            "123 Tamara GPE\n",
            "124 Saint Diogenes GPE\n",
            "124 Venice GPE\n",
            "124 Saint Diogenes GPE\n",
            "125 Rome GPE\n",
            "126 German NORP\n",
            "126 French NORP\n",
            "126 German NORP\n",
            "127 Chinese NORP\n",
            "127 Brooklyn GPE\n",
            "127 Mexico GPE\n",
            "127 French NORP\n",
            "128 Arizona GPE\n",
            "128 Zennor GPE\n",
            "129 Germany GPE\n",
            "130 LaGuardia Airport FAC\n",
            "130 equestrian NORP\n",
            "132 Flemish NORP\n",
            "132 French NORP\n",
            "132 Gordian NORP\n",
            "133 El Greco GPE\n",
            "134 Attic NORP\n",
            "134 calico-Greek NORP\n",
            "135 America GPE\n",
            "135 America GPE\n",
            "137 Prospect Park GPE\n",
            "137 Brooklyn GPE\n",
            "137 Paris GPE\n",
            "141 Magician NORP\n",
            "145 Bodleian NORP\n",
            "150 Persian NORP\n",
            "150 Persian NORP\n",
            "158 Germany GPE\n",
            "159 baboon GPE\n",
            "159 American NORP\n"
          ],
          "name": "stdout"
        }
      ]
    }
  ]
}